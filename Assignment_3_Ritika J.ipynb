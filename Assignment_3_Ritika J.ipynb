{
 "cells": [
  {
   "cell_type": "raw",
   "id": "c4025083",
   "metadata": {},
   "source": [
    "Qstn 1. What is the difference set and dictonary , Explain with the suitable example."
   ]
  },
  {
   "cell_type": "code",
   "execution_count": 1,
   "id": "82315e59",
   "metadata": {},
   "outputs": [
    {
     "name": "stdout",
     "output_type": "stream",
     "text": [
      "{6, 8, 'Cat', 10, 14}\n"
     ]
    }
   ],
   "source": [
    "# SET\n",
    "set={14,6,8,10,\"Cat\"}\n",
    "print(set)\n"
   ]
  },
  {
   "cell_type": "code",
   "execution_count": 2,
   "id": "853e125d",
   "metadata": {},
   "outputs": [
    {
     "data": {
      "text/plain": [
       "{'brand': 'ford', 'model1': 'mustang', 'year': 1996}"
      ]
     },
     "execution_count": 2,
     "metadata": {},
     "output_type": "execute_result"
    }
   ],
   "source": [
    "#DICTONARY\n",
    "di={\"brand\":\"ford\",\"model1\":\"mustang\",\"year\":1996}\n",
    "di"
   ]
  },
  {
   "cell_type": "raw",
   "id": "56bd18fc",
   "metadata": {},
   "source": [
    "Qstn 2. Write the program to print th following pattern "
   ]
  },
  {
   "cell_type": "code",
   "execution_count": 3,
   "id": "fbf6a7ec",
   "metadata": {},
   "outputs": [
    {
     "name": "stdout",
     "output_type": "stream",
     "text": [
      "  *\n",
      "  **\n",
      "  ***\n"
     ]
    }
   ],
   "source": [
    "n=3\n",
    "for i in range(n):\n",
    "    print(\" \",end= \" \")\n",
    "    for j in range(i+1):\n",
    "        print(\"*\",end=\"\")\n",
    "    print()"
   ]
  },
  {
   "cell_type": "raw",
   "id": "63330a3b",
   "metadata": {},
   "source": [
    "Qstn 3. Write the program to print n natural number in ascending order using while loop?"
   ]
  },
  {
   "cell_type": "code",
   "execution_count": 8,
   "id": "7b428281",
   "metadata": {},
   "outputs": [
    {
     "name": "stdout",
     "output_type": "stream",
     "text": [
      "1\n",
      "2\n",
      "3\n",
      "4\n",
      "5\n"
     ]
    }
   ],
   "source": [
    "i=1\n",
    "\n",
    "while i<=n:\n",
    "     print(i)\n",
    "     i+=1"
   ]
  },
  {
   "cell_type": "raw",
   "id": "5a4018b3",
   "metadata": {},
   "source": [
    "Qstn 4 . Write a program in python to swap between two numbers without using a third variable."
   ]
  },
  {
   "cell_type": "code",
   "execution_count": 10,
   "id": "9da67eb8",
   "metadata": {},
   "outputs": [
    {
     "name": "stdout",
     "output_type": "stream",
     "text": [
      "6\n",
      "5\n"
     ]
    }
   ],
   "source": [
    "a=5\n",
    "b=6\n",
    "\n",
    "a,b=b,a\n",
    "print(a)\n",
    "print(b)"
   ]
  },
  {
   "cell_type": "raw",
   "id": "b206ca33",
   "metadata": {},
   "source": [
    "Qstn 5. How to Create a Function with Default Arguments in Python."
   ]
  },
  {
   "cell_type": "code",
   "execution_count": 11,
   "id": "833d944e",
   "metadata": {},
   "outputs": [
    {
     "name": "stdout",
     "output_type": "stream",
     "text": [
      "name:ritika Salary:10000\n"
     ]
    }
   ],
   "source": [
    "def show_employee(name,salary=10000):\n",
    "    print(f\"name:{name} Salary:{salary}\")\n",
    "show_employee(\"ritika\")\n"
   ]
  },
  {
   "cell_type": "raw",
   "id": "ecc8dd9c",
   "metadata": {},
   "source": [
    "Qstn 6.Display a square of numbers from 1 to 10 using list comprehension."
   ]
  },
  {
   "cell_type": "code",
   "execution_count": 12,
   "id": "309df31f",
   "metadata": {},
   "outputs": [
    {
     "name": "stdout",
     "output_type": "stream",
     "text": [
      "[1, 4, 9, 16, 25, 36, 49, 64, 81, 100]\n"
     ]
    }
   ],
   "source": [
    "numbers = list(range(1, 11))\n",
    "\n",
    "squares = [number ** 2 for number in numbers]\n",
    "\n",
    "\n",
    "print(squares)"
   ]
  },
  {
   "cell_type": "raw",
   "id": "7beb8042",
   "metadata": {},
   "source": [
    "Qstn 7.What is polymorphism? Explain with example( class)"
   ]
  },
  {
   "cell_type": "code",
   "execution_count": 13,
   "id": "7b37c210",
   "metadata": {},
   "outputs": [],
   "source": [
    "class Animal:\n",
    "    def speak(self):\n",
    "        print(\"I am an animal!\")\n",
    "\n",
    "class Dog(Animal):\n",
    "    def speak(self):\n",
    "        print(\"Woof!\")\n",
    "\n",
    "class Cat(Animal):\n",
    "    def speak(self):\n",
    "        print(\"Meow!\")\n",
    "\n",
    "# Create an instance of each class\n",
    "dog = Dog()\n",
    "cat = Cat()\n"
   ]
  },
  {
   "cell_type": "raw",
   "id": "f3de30b5",
   "metadata": {},
   "source": [
    "Qstn 8.Explain conditional probability with example?"
   ]
  },
  {
   "cell_type": "raw",
   "id": "75dac59e",
   "metadata": {},
   "source": [
    "Conditional probability is the probability of event A happening, given that event B has already happened. It is denoted by P(A|B).\n",
    "\n",
    "For example, let's say we have a bag of marbles that contains 10 red marbles and 10 blue marbles. We randomly draw one marble from the bag. What is the probability that the marble is red?\n",
    "\n",
    "The answer is 50%. This is because there is an equal chance of drawing a red marble or a blue marble.\n",
    "\n",
    "Now, let's say we know that the first marble we drew was red. What is the probability that the second marble we draw is also red?\n",
    "\n",
    "The answer is 4/9. This is because there are now only 9 marbles left in the bag, and only 4 of them are red.\n"
   ]
  },
  {
   "cell_type": "raw",
   "id": "b5591f93",
   "metadata": {},
   "source": [
    "Qstn 9. Explain Emphirical rule  with diagram ."
   ]
  },
  {
   "cell_type": "raw",
   "id": "eb352c0b",
   "metadata": {},
   "source": [
    "1. Approximately 68% of the data falls within one standard deviation of the mean, which is represented by the area between µ-σ and µ+σ.\n",
    "2. Approximately 95% of the data falls within two standard deviations of the mean, which is represented by the area between µ-2σ and µ+2σ.\n",
    "3. Approximately 99.7% of the data falls within three standard deviations of the mean, which is represented by the area between µ-3σ and µ+3σ."
   ]
  },
  {
   "cell_type": "raw",
   "id": "1ded3ed5",
   "metadata": {},
   "source": [
    "Qstn 10. What is Hypothesis Testing ? What is the Role of p value in HT?"
   ]
  },
  {
   "cell_type": "raw",
   "id": "8db82dd4",
   "metadata": {},
   "source": [
    "Hypothesis testing is a statistical method used to make inferences or draw conclusions about a population based on sample data. The p-value in hypothesis testing is a measure of the strength of evidence against the null hypothesis and helps determine if the results are statistically significant or simply due to chance."
   ]
  },
  {
   "cell_type": "raw",
   "id": "a88f3d7f",
   "metadata": {},
   "source": [
    "Q2) List all the probability distributions with example?"
   ]
  },
  {
   "cell_type": "raw",
   "id": "f87d176f",
   "metadata": {},
   "source": [
    "1. Normal Distribution (Gaussian Distribution): It describes continuous data that follows a symmetric bell-shaped curve, such as heights or IQ scores.\n",
    "\n",
    "2. Binomial Distribution:  Example: Flipping a coin multiple times.\n",
    "\n",
    "3. Poisson Distribution:  Example: Counting the number of phone calls received per hour.\n",
    "\n",
    "4. Exponential Distribution:  Example: The time between arrivals at a bus stop.\n",
    "\n",
    "5. Uniform Distribution: Example: Rolling a fair die.\n",
    "\n",
    "6. Bernoulli Distribution: Example: Flipping a coin (success for heads, failure for tails)."
   ]
  }
 ],
 "metadata": {
  "kernelspec": {
   "display_name": "Python 3 (ipykernel)",
   "language": "python",
   "name": "python3"
  },
  "language_info": {
   "codemirror_mode": {
    "name": "ipython",
    "version": 3
   },
   "file_extension": ".py",
   "mimetype": "text/x-python",
   "name": "python",
   "nbconvert_exporter": "python",
   "pygments_lexer": "ipython3",
   "version": "3.10.9"
  }
 },
 "nbformat": 4,
 "nbformat_minor": 5
}
